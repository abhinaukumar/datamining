{
 "cells": [
  {
   "cell_type": "code",
   "execution_count": 1,
   "metadata": {},
   "outputs": [],
   "source": [
    "import os\n",
    "\n",
    "import numpy as np\n",
    "import pandas as pd\n",
    "\n",
    "import argparse\n"
   ]
  },
  {
   "cell_type": "code",
   "execution_count": 14,
   "metadata": {},
   "outputs": [],
   "source": [
    "# Read nursingChart.csv\n",
    "lab = pd.read_csv( 'lab.csv')\n"
   ]
  },
  {
   "cell_type": "code",
   "execution_count": 15,
   "metadata": {},
   "outputs": [
    {
     "data": {
      "text/plain": [
       "<bound method NDFrame.head of           patientunitstayid  labresultoffset     labname  labresult\n",
       "0                    141168             2026  fibrinogen     177.00\n",
       "1                    141168             1133    PT - INR       2.50\n",
       "2                    141168             2026   magnesium       2.00\n",
       "3                    141168             1133          PT      26.60\n",
       "4                    141168             2141          pH       7.20\n",
       "...                     ...              ...         ...        ...\n",
       "39132526            3353263               -7  WBC x 1000       6.40\n",
       "39132527            3353263             1733         RBC       4.67\n",
       "39132528            3353263               -7      -monos      10.00\n",
       "39132529            3353263             1733  WBC x 1000       6.60\n",
       "39132530            3353263             1733         MCH      28.00\n",
       "\n",
       "[39132531 rows x 4 columns]>"
      ]
     },
     "execution_count": 15,
     "metadata": {},
     "output_type": "execute_result"
    }
   ],
   "source": [
    "col = ['patientunitstayid', 'labresultoffset', 'labname', 'labresult']\n",
    "new_lab=lab[col]\n",
    "new_lab.head"
   ]
  },
  {
   "cell_type": "code",
   "execution_count": 25,
   "metadata": {},
   "outputs": [
    {
     "name": "stderr",
     "output_type": "stream",
     "text": [
      "<ipython-input-25-746a0e9fee82>:13: SettingWithCopyWarning: \n",
      "A value is trying to be set on a copy of a slice from a DataFrame.\n",
      "Try using .loc[row_indexer,col_indexer] = value instead\n",
      "\n",
      "See the caveats in the documentation: https://pandas.pydata.org/pandas-docs/stable/user_guide/indexing.html#returning-a-view-versus-a-copy\n",
      "  df['labresult']=df['labresult'].apply(lambda x: check(x))\n",
      "<ipython-input-25-746a0e9fee82>:14: SettingWithCopyWarning: \n",
      "A value is trying to be set on a copy of a slice from a DataFrame.\n",
      "Try using .loc[row_indexer,col_indexer] = value instead\n",
      "\n",
      "See the caveats in the documentation: https://pandas.pydata.org/pandas-docs/stable/user_guide/indexing.html#returning-a-view-versus-a-copy\n",
      "  df['labresult']=df['labresult'].astype(float)\n"
     ]
    },
    {
     "name": "stdout",
     "output_type": "stream",
     "text": [
      "Empty results are  patientunitstayid       0\n",
      "labresultoffset         0\n",
      "labname                 0\n",
      "labresult            6868\n",
      "dtype: int64\n"
     ]
    },
    {
     "data": {
      "text/plain": [
       "<bound method NDFrame.head of           patientunitstayid  labresultoffset  labname  labresult\n",
       "78                   141168             2026  glucose       54.0\n",
       "87                   141168              516  glucose      131.0\n",
       "136                  141168             1133  glucose       95.0\n",
       "151                  141178             -280  glucose       77.0\n",
       "172                  141179               82  glucose       54.0\n",
       "...                     ...              ...      ...        ...\n",
       "39132310            3353254             1844  glucose      130.0\n",
       "39132325            3353254             4144  glucose      115.0\n",
       "39132331            3353254             5558  glucose      124.0\n",
       "39132408            3353254             -256  glucose      181.0\n",
       "39132447            3353263               -7  glucose      100.0\n",
       "\n",
       "[4488463 rows x 4 columns]>"
      ]
     },
     "execution_count": 25,
     "metadata": {},
     "output_type": "execute_result"
    }
   ],
   "source": [
    "filter_items=['glucose']\n",
    "\n",
    "f_lab = new_lab[new_lab['labname'].isin(['glucose','bedside glucose'])]\n",
    "\n",
    "#f_lab.loc[78]\n",
    "def check(x):\n",
    "    try:\n",
    "        x = float(str(x).strip())\n",
    "    except:\n",
    "        x = np.nan\n",
    "    return x\n",
    "def check_itemvalue(df):\n",
    "    df['labresult']=df['labresult'].apply(lambda x: check(x))\n",
    "    df['labresult']=df['labresult'].astype(float)\n",
    "    return df\n",
    "\n",
    "\n",
    "#f_lab.loc[f_lab['labname'] == 'bedside glucose', 'labname'] = 'glucose'  # unify bedside glucose and glucose\n",
    "f_lab['labname'].replace({\"bedside glucose\": \"glucose\"}, inplace=True)\n",
    "f_lab=check_itemvalue(f_lab)\n",
    "\n",
    "print(\"Empty results are \",f_lab.isnull().sum())\n",
    "#f_lab = f_lab[f_lab['labname'].isin(['bedside glucose'])]\n",
    "f_lab.iloc[1359]\n",
    "#np.where(pd.isnull(f_lab['labresult']))\n",
    "f_wna_lab=f_lab.dropna()\n",
    "f_wna_lab.head"
   ]
  },
  {
   "cell_type": "code",
   "execution_count": 27,
   "metadata": {},
   "outputs": [
    {
     "data": {
      "text/plain": [
       "<bound method NDFrame.head of           patientunitstayid  labresultoffset  labname  labresult\n",
       "78                   141168             2026  glucose       54.0\n",
       "87                   141168              516  glucose      131.0\n",
       "136                  141168             1133  glucose       95.0\n",
       "151                  141178             -280  glucose       77.0\n",
       "172                  141179               82  glucose       54.0\n",
       "...                     ...              ...      ...        ...\n",
       "39132310            3353254             1844  glucose      130.0\n",
       "39132325            3353254             4144  glucose      115.0\n",
       "39132331            3353254             5558  glucose      124.0\n",
       "39132408            3353254             -256  glucose      181.0\n",
       "39132447            3353263               -7  glucose      100.0\n",
       "\n",
       "[4488463 rows x 4 columns]>"
      ]
     },
     "execution_count": 27,
     "metadata": {},
     "output_type": "execute_result"
    }
   ],
   "source": [
    "f_wna_lab.head"
   ]
  },
  {
   "cell_type": "code",
   "execution_count": 17,
   "metadata": {},
   "outputs": [
    {
     "data": {
      "text/plain": [
       "45268.0"
      ]
     },
     "execution_count": 17,
     "metadata": {},
     "output_type": "execute_result"
    },
    {
     "data": {
      "image/png": "[encoded data removed]",
      "text/plain": [
       "<Figure size 432x288 with 1 Axes>"
      ]
     },
     "metadata": {
      "needs_background": "light"
     },
     "output_type": "display_data"
    }
   ],
   "source": [
    "import matplotlib.pyplot as plt\n",
    "n, bins, patches = plt.hist(x=f_wna_lab['labresult'], bins='auto',\n",
    "                            alpha=0.9, rwidth=0.85)\n",
    "plt.grid(axis='y', alpha=0.9)\n",
    "plt.xlabel('Value')\n",
    "plt.ylabel('Frequency')\n",
    "plt.title('Glucose distribution')\n",
    "#plt.text(23, 45, r'$\\mu=15, b=3$')\n",
    "maxfreq = n.max()\n",
    "maxfreq"
   ]
  },
  {
   "cell_type": "code",
   "execution_count": 18,
   "metadata": {},
   "outputs": [
    {
     "data": {
      "text/plain": [
       "count    4.488463e+06\n",
       "mean     1.497503e+02\n",
       "std      6.714042e+01\n",
       "min      0.000000e+00\n",
       "25%      1.080000e+02\n",
       "50%      1.340000e+02\n",
       "75%      1.720000e+02\n",
       "max      2.827000e+03\n",
       "Name: labresult, dtype: float64"
      ]
     },
     "execution_count": 18,
     "metadata": {},
     "output_type": "execute_result"
    }
   ],
   "source": [
    "f_wna_lab['labresult'].describe()"
   ]
  },
  {
   "cell_type": "code",
   "execution_count": 28,
   "metadata": {},
   "outputs": [
    {
     "data": {
      "text/plain": [
       "<bound method NDFrame.head of           patientunitstayid  labresultoffset  labname  labresult\n",
       "78                   141168             2026  glucose       54.0\n",
       "87                   141168              516  glucose      131.0\n",
       "136                  141168             1133  glucose       95.0\n",
       "151                  141178             -280  glucose       77.0\n",
       "172                  141179               82  glucose       54.0\n",
       "...                     ...              ...      ...        ...\n",
       "39132310            3353254             1844  glucose      130.0\n",
       "39132325            3353254             4144  glucose      115.0\n",
       "39132331            3353254             5558  glucose      124.0\n",
       "39132408            3353254             -256  glucose      181.0\n",
       "39132447            3353263               -7  glucose      100.0\n",
       "\n",
       "[4488463 rows x 4 columns]>"
      ]
     },
     "execution_count": 28,
     "metadata": {},
     "output_type": "execute_result"
    }
   ],
   "source": [
    "f_wna_lab.head"
   ]
  },
  {
   "cell_type": "code",
   "execution_count": 29,
   "metadata": {},
   "outputs": [],
   "source": [
    "from sklearn.preprocessing import MinMaxScaler\n",
    "scaler = MinMaxScaler()\n",
    "#labresult = f_wna_lab['labresult'].as_matrix().reshape(-1, 1)\n",
    "#f_wna_lab_s['labresult'] = scaler.fit_transform(labresult)\n",
    "#f_wna_lab_s.hist(figsize=(15,6), column=['labresult'])"
   ]
  },
  {
   "cell_type": "code",
   "execution_count": 55,
   "metadata": {},
   "outputs": [
    {
     "name": "stdout",
     "output_type": "stream",
     "text": [
      "labresult    0\n",
      "dtype: int64\n",
      "labresult    0\n",
      "scale        0\n",
      "old_scale    0\n",
      "dtype: int64\n"
     ]
    },
    {
     "data": {
      "text/html": [
       "<div>\n",
       "<style scoped>\n",
       "    .dataframe tbody tr th:only-of-type {\n",
       "        vertical-align: middle;\n",
       "    }\n",
       "\n",
       "    .dataframe tbody tr th {\n",
       "        vertical-align: top;\n",
       "    }\n",
       "\n",
       "    .dataframe thead th {\n",
       "        text-align: right;\n",
       "    }\n",
       "</style>\n",
       "<table border=\"1\" class=\"dataframe\">\n",
       "  <thead>\n",
       "    <tr style=\"text-align: right;\">\n",
       "      <th></th>\n",
       "      <th>labresult</th>\n",
       "      <th>scale</th>\n",
       "      <th>old_scale</th>\n",
       "    </tr>\n",
       "  </thead>\n",
       "  <tbody>\n",
       "    <tr>\n",
       "      <th>78</th>\n",
       "      <td>54.0</td>\n",
       "      <td>0.019102</td>\n",
       "      <td>54.0</td>\n",
       "    </tr>\n",
       "    <tr>\n",
       "      <th>87</th>\n",
       "      <td>131.0</td>\n",
       "      <td>0.046339</td>\n",
       "      <td>131.0</td>\n",
       "    </tr>\n",
       "    <tr>\n",
       "      <th>136</th>\n",
       "      <td>95.0</td>\n",
       "      <td>0.033605</td>\n",
       "      <td>95.0</td>\n",
       "    </tr>\n",
       "    <tr>\n",
       "      <th>151</th>\n",
       "      <td>77.0</td>\n",
       "      <td>0.027237</td>\n",
       "      <td>77.0</td>\n",
       "    </tr>\n",
       "    <tr>\n",
       "      <th>172</th>\n",
       "      <td>54.0</td>\n",
       "      <td>0.019102</td>\n",
       "      <td>54.0</td>\n",
       "    </tr>\n",
       "    <tr>\n",
       "      <th>...</th>\n",
       "      <td>...</td>\n",
       "      <td>...</td>\n",
       "      <td>...</td>\n",
       "    </tr>\n",
       "    <tr>\n",
       "      <th>39132310</th>\n",
       "      <td>130.0</td>\n",
       "      <td>0.045985</td>\n",
       "      <td>130.0</td>\n",
       "    </tr>\n",
       "    <tr>\n",
       "      <th>39132325</th>\n",
       "      <td>115.0</td>\n",
       "      <td>0.040679</td>\n",
       "      <td>115.0</td>\n",
       "    </tr>\n",
       "    <tr>\n",
       "      <th>39132331</th>\n",
       "      <td>124.0</td>\n",
       "      <td>0.043863</td>\n",
       "      <td>124.0</td>\n",
       "    </tr>\n",
       "    <tr>\n",
       "      <th>39132408</th>\n",
       "      <td>181.0</td>\n",
       "      <td>0.064025</td>\n",
       "      <td>181.0</td>\n",
       "    </tr>\n",
       "    <tr>\n",
       "      <th>39132447</th>\n",
       "      <td>100.0</td>\n",
       "      <td>0.035373</td>\n",
       "      <td>100.0</td>\n",
       "    </tr>\n",
       "  </tbody>\n",
       "</table>\n",
       "<p>4488463 rows × 3 columns</p>\n",
       "</div>"
      ],
      "text/plain": [
       "          labresult     scale  old_scale\n",
       "78             54.0  0.019102       54.0\n",
       "87            131.0  0.046339      131.0\n",
       "136            95.0  0.033605       95.0\n",
       "151            77.0  0.027237       77.0\n",
       "172            54.0  0.019102       54.0\n",
       "...             ...       ...        ...\n",
       "39132310      130.0  0.045985      130.0\n",
       "39132325      115.0  0.040679      115.0\n",
       "39132331      124.0  0.043863      124.0\n",
       "39132408      181.0  0.064025      181.0\n",
       "39132447      100.0  0.035373      100.0\n",
       "\n",
       "[4488463 rows x 3 columns]"
      ]
     },
     "execution_count": 55,
     "metadata": {},
     "output_type": "execute_result"
    }
   ],
   "source": [
    "#from sklearn.preprocessing import StandardScaler\n",
    "#scaler = StandardScaler()\n",
    "#value=f_wna_lab['labresult'].values\n",
    "#df = pd.DataFrame(f_wna_lab,columns=['labresult'])\n",
    "#float_array = f_wna_lab['labresult'].values.astype(float)\n",
    "#df =pd.DataFrame(float_array,columns=['labresult'])\n",
    "#min_max_scaler = MinMaxScaler()\n",
    "#scaled_array = min_max_scaler.fit_transform(float_array)\n",
    "#df_normalized = pd.DataFrame(scaled_array)\n",
    "#df_normalized\n",
    "df = pd.DataFrame(f_wna_lab,columns=['labresult'])\n",
    "print(df.isnull().sum())\n",
    "\n",
    "#float_array = df['labresult'].values.astype(float)\n",
    "#df =pd.DataFrame(float_array,columns=['labresult'])\n",
    "min_max_scaler = MinMaxScaler()\n",
    "scaled_array = min_max_scaler.fit_transform(df)\n",
    "df_normalized = pd.DataFrame(scaled_array)\n",
    "df_normalized\n",
    "df['scale']=scaled_array\n",
    "df['old_scale']=f_wna_lab['labresult']\n",
    "print(df.isnull().sum())\n",
    "df\n",
    "\n",
    "\n",
    "#scaled_array.isnull().sum()\n",
    "#TotalPayReshaped = .TotalPmin_max_scaler = preprocessing.MinMaxScaler()\n",
    "#4\n",
    "#scaled_array = min_max_scaler.fit_transform(float_array)ay.as_matrix().reshape(-1, 1)\n",
    "#x_scaled = scaler.fit_transform(value)\n",
    "#f_wna_lab_s['labresult']=pd.DataFrame(x_scaled)\n",
    "#df.hist(figsize=(15,6), column=[‘TotalPay’])"
   ]
  },
  {
   "cell_type": "code",
   "execution_count": 45,
   "metadata": {},
   "outputs": [
    {
     "data": {
      "text/plain": [
       "-5012.579834572296"
      ]
     },
     "execution_count": 45,
     "metadata": {},
     "output_type": "execute_result"
    }
   ],
   "source": [
    "(54-1.497503e+02)/0.019102"
   ]
  },
  {
   "cell_type": "code",
   "execution_count": 57,
   "metadata": {},
   "outputs": [
    {
     "name": "stdout",
     "output_type": "stream",
     "text": [
      "max is 2827.0000\n",
      "min is 0.0000\n",
      "mean is 149.7503\n"
     ]
    },
    {
     "data": {
      "text/plain": [
       "0.035373187124159884"
      ]
     },
     "execution_count": 57,
     "metadata": {},
     "output_type": "execute_result"
    }
   ],
   "source": [
    "print(\"max is {:.4f}\".format(f_wna_lab['labresult'].max()))\n",
    "print(\"min is {:.4f}\".format(f_wna_lab['labresult'].min()))\n",
    "print(\"mean is {:.4f}\".format(f_wna_lab['labresult'].mean()))\n",
    "\n",
    "maxx=f_wna_lab['labresult'].max()\n",
    "minn=f_wna_lab['labresult'].min()\n",
    "mean=f_wna_lab['labresult'].mean()\n",
    "\n",
    "val=100\n",
    "(val-minn)/(maxx-minn)"
   ]
  }
 ],
 "metadata": {
  "kernelspec": {
   "display_name": "Python 3",
   "language": "python",
   "name": "python3"
  },
  "language_info": {
   "codemirror_mode": {
    "name": "ipython",
    "version": 3
   },
   "file_extension": ".py",
   "mimetype": "text/x-python",
   "name": "python",
   "nbconvert_exporter": "python",
   "pygments_lexer": "ipython3",
   "version": "3.8.3"
  }
 },
 "nbformat": 4,
 "nbformat_minor": 4
}
